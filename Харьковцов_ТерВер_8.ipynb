{
 "cells": [
  {
   "cell_type": "markdown",
   "metadata": {},
   "source": [
    "# Харьковцов А.В. Теория вероятностей и математическая статистика ДЗ_7"
   ]
  },
  {
   "cell_type": "code",
   "execution_count": 1,
   "metadata": {},
   "outputs": [],
   "source": [
    "import numpy as np\n",
    "from scipy import stats\n",
    "import matplotlib.pyplot as plt"
   ]
  },
  {
   "cell_type": "markdown",
   "metadata": {},
   "source": [
    "# Задача 1"
   ]
  },
  {
   "cell_type": "markdown",
   "metadata": {},
   "source": [
    "Провести дисперсионный анализ для определения того, есть ли различия среднего роста среди взрослых футболистов, хоккеистов и штангистов.\n",
    "Даны значения роста в трех группах случайно выбранных спортсменов:\n",
    "\n",
    "Футболисты: 173, 175, 180, 178, 177, 185, 183, 182.\n",
    "\n",
    "Хоккеисты: 177, 179, 180, 188, 177, 172, 171, 184, 180.\n",
    "\n",
    "Штангисты: 172, 173, 169, 177, 166, 180, 178, 177, 172, 166, 170."
   ]
  },
  {
   "cell_type": "code",
   "execution_count": 2,
   "metadata": {},
   "outputs": [
    {
     "data": {
      "image/png": "[encoded data removed]",
      "text/plain": [
       "<Figure size 432x288 with 1 Axes>"
      ]
     },
     "metadata": {
      "needs_background": "light"
     },
     "output_type": "display_data"
    },
    {
     "name": "stdout",
     "output_type": "stream",
     "text": [
      "F_onewayResult(statistic=5.500053450812596, pvalue=0.010482206918698694)\n",
      "\n",
      "т.к. \u001b[1m Pvalue = 0.01\u001b[0m меньше критерия значимости \u001b[1mАльфа = 0.05\u001b[0m,\n",
      "то версия Н1 верна, т.е. вид спорта на рост\u001b[1m влияет\u001b[0m.\n",
      "Но так как различие небольшое, то и влияние - незначительное\n"
     ]
    }
   ],
   "source": [
    "# Решение:\n",
    "fb=np.array([173, 175, 180, 178, 177, 185, 183, 182])\n",
    "hk=np.array([177, 179, 180, 188, 177, 172, 171, 184, 180])\n",
    "sht=np.array([172, 173, 169, 177, 166, 180, 178, 177, 172, 166, 170])\n",
    "\n",
    "fig = plt.figure()\n",
    "plt.boxplot([fb, hk, sht], patch_artist=True, labels=['Футболисты', 'Хоккеисты', 'Штангисты'])\n",
    "plt.title(\"Рост спортсменов по видам спорта\")\n",
    "plt.ylabel(\"рост спортсменов\")\n",
    "plt.grid(True)\n",
    "plt.show()\n",
    "\n",
    "rzt = np.array(stats.f_oneway(fb, hk, sht))\n",
    "print (stats.f_oneway(fb, hk, sht))\n",
    "\n",
    "print (f\"\\nт.к. \\033[1m Pvalue = {rzt[1]:.2f}\\033[0m меньше критерия значимости \\033[1mАльфа = 0.05\\033[0m,\\nто версия Н1 верна, т.е. вид спорта на рост\\033[1m влияет\\033[0m.\")\n",
    "print (\"Но так как различие небольшое, то и влияние - незначительное\")\n"
   ]
  }
 ],
 "metadata": {
  "kernelspec": {
   "display_name": "Python 3",
   "language": "python",
   "name": "python3"
  },
  "language_info": {
   "codemirror_mode": {
    "name": "ipython",
    "version": 3
   },
   "file_extension": ".py",
   "mimetype": "text/x-python",
   "name": "python",
   "nbconvert_exporter": "python",
   "pygments_lexer": "ipython3",
   "version": "3.8.3"
  }
 },
 "nbformat": 4,
 "nbformat_minor": 4
}
