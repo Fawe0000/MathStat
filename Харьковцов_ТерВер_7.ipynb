{
 "cells": [
  {
   "cell_type": "markdown",
   "metadata": {},
   "source": [
    "# Харьковцов А.В. Теория вероятностей и математическая статистика ДЗ_7"
   ]
  },
  {
   "cell_type": "code",
   "execution_count": 1,
   "metadata": {},
   "outputs": [],
   "source": [
    "import numpy as np\n",
    "import scipy.stats\n",
    "from scipy.stats import t\n",
    "from scipy.stats import norm"
   ]
  },
  {
   "cell_type": "markdown",
   "metadata": {},
   "source": [
    "# Задача 1"
   ]
  },
  {
   "cell_type": "markdown",
   "metadata": {},
   "source": [
    "Даны значения величины заработной платы заемщиков банка (zp) и значения их поведенческого кредитного скоринга (ks): \n",
    "\n",
    "zp = [35, 45, 190, 200, 40, 70, 54, 150, 120, 110], \n",
    "\n",
    "ks = [401, 574, 874, 919, 459, 739, 653, 902, 746, 832]. \n",
    "\n",
    "Используя математические операции, посчитать коэффициенты линейной регрессии, приняв за X заработную плату (то есть, zp - признак), а за y - значения скорингового балла (то есть, ks - целевая переменная). Произвести расчет как с использованием intercept, так и без.\n",
    "\n",
    "\n",
    "$Решение:$\n",
    "\n",
    "$$y = a + bx$$\n",
    "\n",
    "$$b = \\frac{\\overline{yx} - \\overline{y} \\cdot {\\overline{x}}}{\\overline{x^2} - (\\overline{x})^2};$$\n",
    "\n",
    "$$a = \\overline{y} - b \\cdot {\\overline{x}}.$$\n",
    "\n",
    "$Итого:$\n",
    "\n",
    "$y = 444.1774 + 2.6205x$\n"
   ]
  },
  {
   "cell_type": "code",
   "execution_count": 23,
   "metadata": {},
   "outputs": [
    {
     "name": "stdout",
     "output_type": "stream",
     "text": [
      "коэффициент b = 2.6205\n",
      "коэффициент a = 444.1774\n",
      "[535.89621821 562.10160703 942.07974498 968.2851338  548.99891262\n",
      " 627.61507909 585.68645697 837.25818968 758.64202321 732.43663439]\n",
      "R2 = 0.7876\n"
     ]
    }
   ],
   "source": [
    "# Решение:\n",
    "zp=np.array([35, 45, 190, 200, 40, 70, 54, 150, 120, 110])\n",
    "ks=np.array([401, 574, 874, 919, 459, 739, 653, 902, 746, 832])\n",
    "x = zp\n",
    "y = ks\n",
    "n=len(x)\n",
    "\n",
    "b = (np.mean(x * y) - np.mean(x) * np.mean(y)) / (np.mean(x**2) - np.mean(x) ** 2)\n",
    "a = np.mean(y) - b * np.mean(x)\n",
    "print (f\"коэффициент b = {b:.4f}\")\n",
    "print (f\"коэффициент a = {a:.4f}\")\n",
    "y_hat = (a + b*x)\n",
    "print (y_hat)\n",
    "\n",
    "r = b * np.std(x) / np.std(y)\n",
    "R2 = r**2\n",
    "print (f\"R2 = {R2:.4f}\")\n"
   ]
  },
  {
   "cell_type": "code",
   "execution_count": 22,
   "metadata": {},
   "outputs": [
    {
     "data": {
      "image/png": "[encoded data removed]",
      "text/plain": [
       "<Figure size 432x288 with 1 Axes>"
      ]
     },
     "metadata": {
      "needs_background": "light"
     },
     "output_type": "display_data"
    }
   ],
   "source": [
    "import matplotlib.pyplot as plt\n",
    "\n",
    "plt.scatter(x, y)\n",
    "plt.plot(x, y_hat)\n",
    "plt.xlabel('Зарплата')\n",
    "plt.ylabel('Кредитный скоринг')\n",
    "plt.show()"
   ]
  },
  {
   "cell_type": "markdown",
   "metadata": {},
   "source": [
    "    Вообще, если судить по графику, то зависимость не линейная, а, скорее - парабола со степенью корня из Х"
   ]
  },
  {
   "cell_type": "markdown",
   "metadata": {},
   "source": [
    "# Задача 2"
   ]
  },
  {
   "cell_type": "markdown",
   "metadata": {},
   "source": [
    "Посчитать коэффициент линейной регрессии при заработной плате (zp), используя градиентный спуск (без intercept). \n",
    "\n",
    "$Решение: $"
   ]
  },
  {
   "cell_type": "code",
   "execution_count": 58,
   "metadata": {},
   "outputs": [
    {
     "name": "stdout",
     "output_type": "stream",
     "text": [
      "введите количество итераций:1000000000\n",
      "введите точность b1(знаков после запятой):8\n",
      "Итерация:39193,   b1 = 5.8898, средняя квадратичная ошибка  mse = 56516.8584\n"
     ]
    }
   ],
   "source": [
    "# Решение:\n",
    "def mse_(b1,y=y,x=x,n=n):\n",
    "    return np.sum((b1*x-y)**2)/n\n",
    "\n",
    "alpha = 1e-8\n",
    "b1 = 5\n",
    "b1_=b1\n",
    "iter = int(input (\"введите количество итераций:\"))\n",
    "ttb1 = int(input (\"введите точность b1(знаков после запятой):\"))\n",
    "for i in range(iter):\n",
    "    b1_ -= alpha*(2/n)*np.sum((b1_*x-y)*x)\n",
    "    if round(b1-b1_,ttb1)==0:\n",
    "       break\n",
    "    b1 = b1_\n",
    "print (f\"Итерация:{i},   b1 = {b1:.4f}, средняя квадратичная ошибка  mse = {mse_(b1):.4f}\")"
   ]
  },
  {
   "cell_type": "markdown",
   "metadata": {},
   "source": [
    "# Задача 3"
   ]
  },
  {
   "cell_type": "markdown",
   "metadata": {},
   "source": [
    "*3. Произвести вычисления как в пункте 2, но с вычислением intercept. \n",
    "Учесть, что изменение коэффициентов должно производиться на каждом шаге одновременно (то есть изменение одного коэффициента не должно влиять на изменение другого во время одной итерации).\n",
    "\n",
    "$Решение: $\n"
   ]
  }
 ],
 "metadata": {
  "kernelspec": {
   "display_name": "Python 3",
   "language": "python",
   "name": "python3"
  },
  "language_info": {
   "codemirror_mode": {
    "name": "ipython",
    "version": 3
   },
   "file_extension": ".py",
   "mimetype": "text/x-python",
   "name": "python",
   "nbconvert_exporter": "python",
   "pygments_lexer": "ipython3",
   "version": "3.8.3"
  }
 },
 "nbformat": 4,
 "nbformat_minor": 4
}
