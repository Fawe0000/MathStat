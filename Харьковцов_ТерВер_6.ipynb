{
 "cells": [
  {
   "cell_type": "markdown",
   "metadata": {},
   "source": [
    "# Харьковцов А.В. Теория вероятностей и математическая статистика ДЗ_6"
   ]
  },
  {
   "cell_type": "code",
   "execution_count": 54,
   "metadata": {},
   "outputs": [],
   "source": [
    "import numpy as np\n",
    "import scipy.stats\n",
    "from scipy.stats import t\n",
    "from scipy.stats import norm\n",
    "from math import factorial\n",
    "\n",
    "# Формула числа сочетаний`\n",
    "def combinations(n, k):\n",
    "    return int(factorial(n) / (factorial(k) * factorial(n - k)))\n",
    "\n",
    "# Формула Бернулли\n",
    "def bernulli(n, k, p):\n",
    "    q = 1 - p\n",
    "    return (combinations(n, k) * p**k * q**(n - k) * 100)\n",
    "\n",
    "# формула Пуассона\n",
    "def pouasson(m, n, p):\n",
    "    lambda_ = n * p\n",
    "    return (lambda_**m / (factorial(m)) * np.exp(-lambda_)) * 100\n"
   ]
  },
  {
   "cell_type": "markdown",
   "metadata": {},
   "source": [
    "# Задача 1"
   ]
  },
  {
   "cell_type": "markdown",
   "metadata": {},
   "source": [
    "Даны значения величины заработной платы заемщиков банка (zp) и значения их поведенческого кредитного скоринга (ks):\n",
    "zp = [35, 45, 190, 200, 40, 70, 54, 150, 120, 110],\n",
    "ks = [401, 574, 874, 919, 459, 739, 653, 902, 746, 832].\n",
    "Найдите ковариацию этих двух величин с помощью элементарных действий, а затем с помощью функции cov из numpy\n",
    "Полученные значения должны быть равны.\n",
    "Найдите коэффициент корреляции Пирсона с помощью ковариации и среднеквадратичных отклонений двух признаков,\n",
    "а затем с использованием функций из библиотек numpy и pandas.\n",
    "\n",
    "\n",
    "$Решение:$\n",
    "\n",
    "$$cov_{XY} = M[(X - M(X))(Y - M(Y))] = M(XY) - M(X)M(Y)=\\overline{X \\cdot Y} - \\overline{X} \\cdot \\overline{Y}$$\n",
    "\n",
    "$cov_{zp,ks} = \\overline{X \\cdot Y} - \\overline{X} \\cdot \\overline{Y}$\n",
    "\n",
    "$коэффициент$  $корреляции$  $Пирсона:$\n",
    "\n",
    "$$r_{XY} = \\frac{cov_{XY}}{\\sigma_{X}\\sigma_{Y}}$$\n"
   ]
  },
  {
   "cell_type": "code",
   "execution_count": 27,
   "metadata": {},
   "outputs": [
    {
     "name": "stdout",
     "output_type": "stream",
     "text": [
      "Среднее по произведению = 81141.70; Среднее по zp = 101.40, Среднее по ks = 709.90\n",
      "Ковариация = 9157.84\n",
      "Ковариация с помощью функц  cov:\n",
      " [[ 3494.64  9157.84]\n",
      " [ 9157.84 30468.89]]\n",
      "\n",
      "Коэффициент корреляции Пирсона = 0.8875\n",
      "Ковариация с помощью функц  cov:\n",
      " [[1.         0.88749009]\n",
      " [0.88749009 1.        ]]\n"
     ]
    }
   ],
   "source": [
    "# Решение:\n",
    "zp=np.array([35, 45, 190, 200, 40, 70, 54, 150, 120, 110])\n",
    "ks=np.array([401, 574, 874, 919, 459, 739, 653, 902, 746, 832])\n",
    "xy = zp * ks\n",
    "\n",
    "n=len(zp)\n",
    "\n",
    "mx = zp.sum()/n\n",
    "my = ks.sum()/n\n",
    "mxy = xy.sum()/n\n",
    "\n",
    "mmxy = mx * my\n",
    "\n",
    "print (f\"Среднее по произведению = {mxy:.2f}; Среднее по zp = {mx:.2f}, Среднее по ks = {my:.2f}\")\n",
    "print (f\"Ковариация = {mxy - mmxy:.2f}\")\n",
    "print (f\"Ковариация с помощью функц  cov:\\n {np.cov(zp,ks,ddof=0)}\\n\")\n",
    "\n",
    "sx = (((zp-mx)**2).sum()/n)**.5\n",
    "sy = (((ks-my)**2).sum()/n)**.5\n",
    "rxy = (mxy-mmxy)/(sx*sy)\n",
    "print (f\"Коэффициент корреляции Пирсона = {rxy:.4f}\")\n",
    "print (f\"Ковариация с помощью функц  cov:\\n {np.corrcoef(zp,ks)}\")"
   ]
  },
  {
   "cell_type": "markdown",
   "metadata": {},
   "source": [
    "# Задача 2"
   ]
  },
  {
   "cell_type": "markdown",
   "metadata": {},
   "source": [
    "Измерены значения IQ выборки студентов,\n",
    "обучающихся в местных технических вузах:\n",
    "131, 125, 115, 122, 131, 115, 107, 99, 125, 111.\n",
    "Известно, что в генеральной совокупности IQ распределен нормально.\n",
    "Найдите доверительный интервал для математического ожидания с надежностью 0.95.\n",
    "\n",
    "$Решение: $\n",
    "\n",
    "$$T_{1,2} = \\overline{X} \\pm t_{v,\\alpha/2} \\cdot\\frac{\\sigma}{\\sqrt{n}} $$\n",
    "\n",
    "\n",
    "\n",
    "\n"
   ]
  },
  {
   "cell_type": "code",
   "execution_count": 52,
   "metadata": {},
   "outputs": [
    {
     "name": "stdout",
     "output_type": "stream",
     "text": [
      "Среднее выборочное: 118.10\n",
      "Среднее квадратичное отклонение: 10.00\n",
      "Доверительный интервал с вероятностью 95%: [110.94, 125.26]\n"
     ]
    }
   ],
   "source": [
    "# Решение:\n",
    "iq=np.array([131, 125, 115, 122, 131, 115, 107, 99, 125, 111])\n",
    "p=(1-0.95)/2\n",
    "n=len(iq)\n",
    "v=n-1\n",
    "m = np.mean(iq)\n",
    "\n",
    "print (f\"Среднее выборочное: {m:.2f}\")\n",
    "\n",
    "s=np.std(iq)\n",
    "print (f\"Среднее квадратичное отклонение: {s:.2f}\")\n",
    "print (f\"Доверительный интервал с вероятностью 95%: [{m+t.ppf(p, v)*s/n**0.5:.2f}, {m-t.ppf(p, v)*s/n**0.5:.2f}]\")\n"
   ]
  },
  {
   "cell_type": "markdown",
   "metadata": {},
   "source": [
    "# Задача 3"
   ]
  },
  {
   "cell_type": "markdown",
   "metadata": {},
   "source": [
    "Известно, что рост футболистов в сборной распределен нормально\n",
    "с дисперсией генеральной совокупности, равной 25 кв.см. Объем выборки равен 27,\n",
    "среднее выборочное составляет 174.2. Найдите доверительный интервал для математического\n",
    "ожидания с надежностью 0.95\n",
    "\n",
    "$Решение: $\n",
    "\n",
    "$$M \\pm Z_{\\alpha/2} \\cdot\\frac{\\sigma}{\\sqrt{n}} $$\n",
    "\n",
    "$174.2\\pm Z_{(1-0.95)/2} \\cdot\\frac{\\sqrt{25}}{\\sqrt{27}} $\n",
    "\n",
    "\n",
    "$[172.31; 167.43] $"
   ]
  },
  {
   "cell_type": "code",
   "execution_count": 56,
   "metadata": {},
   "outputs": [
    {
     "name": "stdout",
     "output_type": "stream",
     "text": [
      "Среднее квадратичное отклонение: 5.00\n",
      "Доверительный интервал с вероятностью 95%: [172.31, 176.09]\n"
     ]
    }
   ],
   "source": [
    "# Решение:\n",
    "p=(1-0.95)/2\n",
    "n=27\n",
    "m = 174.2\n",
    "d = 25\n",
    "s = d**0.5\n",
    "print (f\"Среднее квадратичное отклонение: {s:.2f}\")\n",
    "print (f\"Доверительный интервал с вероятностью 95%: [{m+norm.ppf(p)*s/n**0.5:.2f}, {m-norm.ppf(p)*s/n**0.5:.2f}]\")\n"
   ]
  }
 ],
 "metadata": {
  "kernelspec": {
   "display_name": "Python 3",
   "language": "python",
   "name": "python3"
  },
  "language_info": {
   "codemirror_mode": {
    "name": "ipython",
    "version": 3
   },
   "file_extension": ".py",
   "mimetype": "text/x-python",
   "name": "python",
   "nbconvert_exporter": "python",
   "pygments_lexer": "ipython3",
   "version": "3.8.3"
  }
 },
 "nbformat": 4,
 "nbformat_minor": 4
}
